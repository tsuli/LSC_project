{
  "nbformat": 4,
  "nbformat_minor": 0,
  "metadata": {
    "colab": {
      "name": "Untitled1.ipynb",
      "provenance": [],
      "authorship_tag": "ABX9TyPVLGfCthbnbGjTkMV6LXQ9",
      "include_colab_link": true
    },
    "kernelspec": {
      "name": "python3",
      "display_name": "Python 3"
    },
    "language_info": {
      "name": "python"
    },
    "accelerator": "GPU"
  },
  "cells": [
    {
      "cell_type": "markdown",
      "metadata": {
        "id": "view-in-github",
        "colab_type": "text"
      },
      "source": [
        "<a href=\"https://colab.research.google.com/github/tsuli/LSC_project/blob/main/Task2_v05.ipynb\" target=\"_parent\"><img src=\"https://colab.research.google.com/assets/colab-badge.svg\" alt=\"Open In Colab\"/></a>"
      ]
    },
    {
      "cell_type": "code",
      "metadata": {
        "colab": {
          "base_uri": "https://localhost:8080/"
        },
        "id": "8uYtp3TS6Dx5",
        "outputId": "693c5e1f-05b4-47d4-dada-534eae5a4ab3"
      },
      "source": [
        "# specify the data file name and url\n",
        "url = 'https://archive.ics.uci.edu/ml/machine-learning-databases/00240/'\n",
        "datafile = url + 'UCI%20HAR%20Dataset.zip'\n",
        "\n",
        "# download the zip file from the web server using curl\n",
        "!curl $datafile --output UCI_HAR_Dataset.zip\n",
        "\n",
        "# unzip the file\n",
        "!unzip -qq UCI_HAR_Dataset.zip\n",
        "\n",
        "# change the directory name to remove spaces\n",
        "!mv -f UCI\\ HAR\\ Dataset UCI_HAR_DATASET"
      ],
      "execution_count": 1,
      "outputs": [
        {
          "output_type": "stream",
          "text": [
            "  % Total    % Received % Xferd  Average Speed   Time    Time     Time  Current\n",
            "                                 Dload  Upload   Total   Spent    Left  Speed\n",
            "100 58.1M  100 58.1M    0     0  13.4M      0  0:00:04  0:00:04 --:--:-- 13.4M\n"
          ],
          "name": "stdout"
        }
      ]
    },
    {
      "cell_type": "code",
      "metadata": {
        "id": "Fam53HA_6PMa"
      },
      "source": [
        "import numpy as np\n",
        "import matplotlib.pyplot as plt\n",
        "import pandas as pd\n",
        "import tensorflow as tf\n",
        "from sklearn.model_selection import train_test_split"
      ],
      "execution_count": 2,
      "outputs": []
    },
    {
      "cell_type": "code",
      "metadata": {
        "colab": {
          "base_uri": "https://localhost:8080/"
        },
        "id": "H3VqZGrz6ZOQ",
        "outputId": "5683f598-5e6e-42b2-8191-b00dff0c6aae"
      },
      "source": [
        "# load the features and labels (subtract 1 as the labels aren't indexed from 0)\n",
        "ytest = np.loadtxt('UCI_HAR_DATASET/test/y_test.txt').astype(np.float32) -1\n",
        "ytrain = np.loadtxt('UCI_HAR_DATASET/train/y_train.txt').astype(np.float32) -1\n",
        "\n",
        "# load the x,y,z body accelerations test data\n",
        "xx=np.loadtxt('/content/UCI_HAR_DATASET/test/Inertial Signals/body_acc_x_test.txt').astype(np.float32) \n",
        "yy=np.loadtxt('/content/UCI_HAR_DATASET/test/Inertial Signals/body_acc_y_test.txt').astype(np.float32) \n",
        "zz=np.loadtxt('/content/UCI_HAR_DATASET/test/Inertial Signals/body_acc_z_test.txt').astype(np.float32) \n",
        "\n",
        "# concatenate the arrays along the last dimension\n",
        "xtest = np.concatenate((xx[:,:,None],yy[:,:,None],zz[:,:,None]),axis=2)\n",
        "# (using None here adds an extra dimension of size 1 to the end of the array)\n",
        "\n",
        "# follow the same approach for the train data\n",
        "xx=np.loadtxt('/content/UCI_HAR_DATASET/train/Inertial Signals/body_acc_x_train.txt').astype(np.float32) \n",
        "yy=np.loadtxt('/content/UCI_HAR_DATASET/train/Inertial Signals/body_acc_y_train.txt').astype(np.float32) \n",
        "zz=np.loadtxt('/content/UCI_HAR_DATASET/train/Inertial Signals/body_acc_z_train.txt').astype(np.float32) \n",
        "\n",
        "xtrain = np.concatenate((xx[:,:,None],yy[:,:,None],zz[:,:,None]),axis=2)\n",
        "\n",
        "xtrain, xvalid, ytrain, yvalid = train_test_split(xtrain, ytrain, test_size=0.2, random_state=42)\n",
        "ytrain_enc = tf.keras.utils.to_categorical(ytrain)\n",
        "yvalid_enc = tf.keras.utils.to_categorical(yvalid)\n",
        "ytest_enc = tf.keras.utils.to_categorical(ytest)\n",
        "xtrain = xtrain.astype(np.float32)\n",
        "xvalid = xvalid.astype(np.float32)\n",
        "xtest = xtest.astype(np.float32)\n",
        "\n",
        "print(xtrain.shape, ytrain_enc.shape, xvalid.shape, yvalid_enc.shape, xtest.shape, ytest_enc.shape)"
      ],
      "execution_count": 3,
      "outputs": [
        {
          "output_type": "stream",
          "text": [
            "(5881, 128, 3) (5881, 6) (1471, 128, 3) (1471, 6) (2947, 128, 3) (2947, 6)\n"
          ],
          "name": "stdout"
        }
      ]
    },
    {
      "cell_type": "code",
      "metadata": {
        "id": "yB2fjjuM55lo"
      },
      "source": [
        "input_layer = tf.keras.Input(shape=(128,3))\n",
        "output_layer1 = tf.keras.layers.Conv1D(filters=32, kernel_size=(4), padding = 'same')(input_layer)\n",
        "output_layer2 = tf.keras.layers.BatchNormalization()(output_layer1)\n",
        "output_layer3 = tf.keras.layers.ReLU()(output_layer2)\n",
        "output_layer4 = tf.keras.layers.GlobalAveragePooling1D()(output_layer3)\n",
        "output_layer5 = tf.keras.layers.Dense(units=6,activation=tf.nn.softmax)(output_layer4)\n",
        "\n",
        "model = tf.keras.Model(inputs=input_layer, outputs=output_layer5)"
      ],
      "execution_count": 4,
      "outputs": []
    },
    {
      "cell_type": "code",
      "metadata": {
        "id": "bZUBzWn2ayhy"
      },
      "source": [
        "model.compile(optimizer=tf.keras.optimizers.Adam(0.001), loss='categorical_crossentropy', metrics=['accuracy'])\n",
        "callbacks = [tf.keras.callbacks.EarlyStopping(monitor='val_loss', patience=2)]"
      ],
      "execution_count": 5,
      "outputs": []
    },
    {
      "cell_type": "code",
      "metadata": {
        "colab": {
          "base_uri": "https://localhost:8080/"
        },
        "id": "tFuWE5sabFmz",
        "outputId": "345a8a96-eadc-479c-ab80-f9dcd272a595"
      },
      "source": [
        "model.fit(xtrain,  ytrain_enc, \n",
        "          epochs=100,\n",
        "          batch_size=64, \n",
        "          callbacks=callbacks,\n",
        "          validation_data=(xvalid, yvalid_enc))"
      ],
      "execution_count": 6,
      "outputs": [
        {
          "output_type": "stream",
          "text": [
            "Epoch 1/100\n",
            "92/92 [==============================] - 2s 11ms/step - loss: 1.5478 - accuracy: 0.3896 - val_loss: 1.7168 - val_accuracy: 0.2848\n",
            "Epoch 2/100\n",
            "92/92 [==============================] - 1s 10ms/step - loss: 1.3343 - accuracy: 0.5375 - val_loss: 1.6149 - val_accuracy: 0.3243\n",
            "Epoch 3/100\n",
            "92/92 [==============================] - 1s 9ms/step - loss: 1.2019 - accuracy: 0.5540 - val_loss: 1.4593 - val_accuracy: 0.4432\n",
            "Epoch 4/100\n",
            "92/92 [==============================] - 1s 9ms/step - loss: 1.0920 - accuracy: 0.5724 - val_loss: 1.2498 - val_accuracy: 0.5751\n",
            "Epoch 5/100\n",
            "92/92 [==============================] - 1s 10ms/step - loss: 1.0113 - accuracy: 0.6077 - val_loss: 1.0858 - val_accuracy: 0.4908\n",
            "Epoch 6/100\n",
            "92/92 [==============================] - 1s 10ms/step - loss: 0.9540 - accuracy: 0.6359 - val_loss: 0.9666 - val_accuracy: 0.6111\n",
            "Epoch 7/100\n",
            "92/92 [==============================] - 1s 9ms/step - loss: 0.9110 - accuracy: 0.6586 - val_loss: 0.9004 - val_accuracy: 0.5914\n",
            "Epoch 8/100\n",
            "92/92 [==============================] - 1s 10ms/step - loss: 0.8806 - accuracy: 0.6543 - val_loss: 0.8646 - val_accuracy: 0.6064\n",
            "Epoch 9/100\n",
            "92/92 [==============================] - 1s 9ms/step - loss: 0.8540 - accuracy: 0.6446 - val_loss: 0.8442 - val_accuracy: 0.6152\n",
            "Epoch 10/100\n",
            "92/92 [==============================] - 1s 9ms/step - loss: 0.8295 - accuracy: 0.6577 - val_loss: 0.8238 - val_accuracy: 0.6057\n",
            "Epoch 11/100\n",
            "92/92 [==============================] - 1s 9ms/step - loss: 0.8142 - accuracy: 0.6698 - val_loss: 0.8023 - val_accuracy: 0.6173\n",
            "Epoch 12/100\n",
            "92/92 [==============================] - 1s 10ms/step - loss: 0.7947 - accuracy: 0.6768 - val_loss: 0.7839 - val_accuracy: 0.6091\n",
            "Epoch 13/100\n",
            "92/92 [==============================] - 1s 10ms/step - loss: 0.7807 - accuracy: 0.6836 - val_loss: 0.7627 - val_accuracy: 0.6818\n",
            "Epoch 14/100\n",
            "92/92 [==============================] - 1s 10ms/step - loss: 0.7664 - accuracy: 0.6934 - val_loss: 0.7581 - val_accuracy: 0.6200\n",
            "Epoch 15/100\n",
            "92/92 [==============================] - 1s 10ms/step - loss: 0.7534 - accuracy: 0.7143 - val_loss: 0.7561 - val_accuracy: 0.6193\n",
            "Epoch 16/100\n",
            "92/92 [==============================] - 1s 9ms/step - loss: 0.7435 - accuracy: 0.6972 - val_loss: 0.7408 - val_accuracy: 0.6315\n",
            "Epoch 17/100\n",
            "92/92 [==============================] - 1s 10ms/step - loss: 0.7322 - accuracy: 0.7164 - val_loss: 0.7253 - val_accuracy: 0.6982\n",
            "Epoch 18/100\n",
            "92/92 [==============================] - 1s 10ms/step - loss: 0.7214 - accuracy: 0.7218 - val_loss: 0.7180 - val_accuracy: 0.6445\n",
            "Epoch 19/100\n",
            "92/92 [==============================] - 1s 10ms/step - loss: 0.7161 - accuracy: 0.7046 - val_loss: 0.7068 - val_accuracy: 0.6961\n",
            "Epoch 20/100\n",
            "92/92 [==============================] - 1s 9ms/step - loss: 0.7117 - accuracy: 0.7038 - val_loss: 0.7101 - val_accuracy: 0.6268\n",
            "Epoch 21/100\n",
            "92/92 [==============================] - 1s 9ms/step - loss: 0.6975 - accuracy: 0.7201 - val_loss: 0.6984 - val_accuracy: 0.6451\n",
            "Epoch 22/100\n",
            "92/92 [==============================] - 1s 10ms/step - loss: 0.6916 - accuracy: 0.7203 - val_loss: 0.6953 - val_accuracy: 0.6988\n",
            "Epoch 23/100\n",
            "92/92 [==============================] - 1s 10ms/step - loss: 0.6827 - accuracy: 0.7264 - val_loss: 0.6881 - val_accuracy: 0.6954\n",
            "Epoch 24/100\n",
            "92/92 [==============================] - 1s 9ms/step - loss: 0.6784 - accuracy: 0.7444 - val_loss: 0.6755 - val_accuracy: 0.7485\n",
            "Epoch 25/100\n",
            "92/92 [==============================] - 1s 10ms/step - loss: 0.6730 - accuracy: 0.7419 - val_loss: 0.6769 - val_accuracy: 0.6547\n",
            "Epoch 26/100\n",
            "92/92 [==============================] - 1s 10ms/step - loss: 0.6661 - accuracy: 0.7368 - val_loss: 0.6702 - val_accuracy: 0.6621\n",
            "Epoch 27/100\n",
            "92/92 [==============================] - 1s 10ms/step - loss: 0.6608 - accuracy: 0.7405 - val_loss: 0.6835 - val_accuracy: 0.6411\n",
            "Epoch 28/100\n",
            "92/92 [==============================] - 1s 9ms/step - loss: 0.6576 - accuracy: 0.7378 - val_loss: 0.6818 - val_accuracy: 0.6261\n"
          ],
          "name": "stdout"
        },
        {
          "output_type": "execute_result",
          "data": {
            "text/plain": [
              "<tensorflow.python.keras.callbacks.History at 0x7f183a2ebcd0>"
            ]
          },
          "metadata": {
            "tags": []
          },
          "execution_count": 6
        }
      ]
    },
    {
      "cell_type": "code",
      "metadata": {
        "colab": {
          "base_uri": "https://localhost:8080/"
        },
        "id": "LgR00nG9zkx1",
        "outputId": "4b0e5013-5cfa-4bad-8a34-3895239164d4"
      },
      "source": [
        "model.summary()"
      ],
      "execution_count": 35,
      "outputs": [
        {
          "output_type": "stream",
          "text": [
            "Model: \"model_4\"\n",
            "_________________________________________________________________\n",
            "Layer (type)                 Output Shape              Param #   \n",
            "=================================================================\n",
            "input_6 (InputLayer)         [(None, 128, 3)]          0         \n",
            "_________________________________________________________________\n",
            "conv1d_5 (Conv1D)            (None, 128, 32)           416       \n",
            "_________________________________________________________________\n",
            "batch_normalization_5 (Batch (None, 128, 32)           128       \n",
            "_________________________________________________________________\n",
            "re_lu_5 (ReLU)               (None, 128, 32)           0         \n",
            "_________________________________________________________________\n",
            "average_pooling1d_3 (Average (None, 64, 32)            0         \n",
            "_________________________________________________________________\n",
            "dense_5 (Dense)              (None, 64, 6)             198       \n",
            "=================================================================\n",
            "Total params: 742\n",
            "Trainable params: 678\n",
            "Non-trainable params: 64\n",
            "_________________________________________________________________\n"
          ],
          "name": "stdout"
        }
      ]
    },
    {
      "cell_type": "markdown",
      "metadata": {
        "id": "xP5FLjyk1nRc"
      },
      "source": [
        "1, s 4ms/step - loss: 0.5741 - accuracy: 0.7747 - val_loss: 0.5855 - val_accuracy: 0.7485\n",
        "epochs=100, batch_size=256"
      ]
    },
    {
      "cell_type": "markdown",
      "metadata": {
        "id": "quTh8GPd12Be"
      },
      "source": [
        "s 10ms/step - loss: 0.6661 - accuracy: 0.7368 - val_loss: 0.6702 - val_accuracy: 0.6621, epochs=100, batch_size=64"
      ]
    },
    {
      "cell_type": "code",
      "metadata": {
        "id": "c5teP8iPvASJ"
      },
      "source": [
        ""
      ],
      "execution_count": null,
      "outputs": []
    },
    {
      "cell_type": "code",
      "metadata": {
        "id": "KgIvBQ8Ru_GG"
      },
      "source": [
        ""
      ],
      "execution_count": null,
      "outputs": []
    },
    {
      "cell_type": "code",
      "metadata": {
        "id": "K-K4RJotzimC"
      },
      "source": [
        ""
      ],
      "execution_count": null,
      "outputs": []
    },
    {
      "cell_type": "code",
      "metadata": {
        "id": "r_dEgyhNzgzG"
      },
      "source": [
        ""
      ],
      "execution_count": null,
      "outputs": []
    },
    {
      "cell_type": "code",
      "metadata": {
        "id": "QWqy6wA_zcEK"
      },
      "source": [
        ""
      ],
      "execution_count": null,
      "outputs": []
    },
    {
      "cell_type": "code",
      "metadata": {
        "id": "ZF7gmcdFzHXI"
      },
      "source": [
        ""
      ],
      "execution_count": null,
      "outputs": []
    },
    {
      "cell_type": "code",
      "metadata": {
        "id": "nYPAUUwIwTyb"
      },
      "source": [
        ""
      ],
      "execution_count": null,
      "outputs": []
    },
    {
      "cell_type": "code",
      "metadata": {
        "id": "fSMMopC4wP08"
      },
      "source": [
        ""
      ],
      "execution_count": null,
      "outputs": []
    },
    {
      "cell_type": "code",
      "metadata": {
        "id": "oFol54dmwDot"
      },
      "source": [
        ""
      ],
      "execution_count": null,
      "outputs": []
    },
    {
      "cell_type": "code",
      "metadata": {
        "id": "6Ai2A7ubvjNS"
      },
      "source": [
        ""
      ],
      "execution_count": null,
      "outputs": []
    },
    {
      "cell_type": "code",
      "metadata": {
        "id": "CGyO59JShCzz"
      },
      "source": [
        ""
      ],
      "execution_count": null,
      "outputs": []
    },
    {
      "cell_type": "code",
      "metadata": {
        "id": "rsrOOulsggzm"
      },
      "source": [
        ""
      ],
      "execution_count": null,
      "outputs": []
    }
  ]
}