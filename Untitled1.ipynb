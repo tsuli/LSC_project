{
  "nbformat": 4,
  "nbformat_minor": 0,
  "metadata": {
    "colab": {
      "name": "Untitled1.ipynb",
      "provenance": [],
      "authorship_tag": "ABX9TyPwb354nnhatr39M6TOCbW9",
      "include_colab_link": true
    },
    "kernelspec": {
      "name": "python3",
      "display_name": "Python 3"
    },
    "language_info": {
      "name": "python"
    },
    "accelerator": "TPU"
  },
  "cells": [
    {
      "cell_type": "markdown",
      "metadata": {
        "id": "view-in-github",
        "colab_type": "text"
      },
      "source": [
        "<a href=\"https://colab.research.google.com/github/tsuli/LSC_project/blob/main/Untitled1.ipynb\" target=\"_parent\"><img src=\"https://colab.research.google.com/assets/colab-badge.svg\" alt=\"Open In Colab\"/></a>"
      ]
    },
    {
      "cell_type": "code",
      "metadata": {
        "colab": {
          "base_uri": "https://localhost:8080/"
        },
        "id": "8uYtp3TS6Dx5",
        "outputId": "fbf77f6f-2fc9-4469-b546-f4022bf69adc"
      },
      "source": [
        "# specify the data file name and url\n",
        "url = 'https://archive.ics.uci.edu/ml/machine-learning-databases/00240/'\n",
        "datafile = url + 'UCI%20HAR%20Dataset.zip'\n",
        "\n",
        "# download the zip file from the web server using curl\n",
        "!curl $datafile --output UCI_HAR_Dataset.zip\n",
        "\n",
        "# unzip the file\n",
        "!unzip -qq UCI_HAR_Dataset.zip\n",
        "\n",
        "# change the directory name to remove spaces\n",
        "!mv -f UCI\\ HAR\\ Dataset UCI_HAR_DATASET"
      ],
      "execution_count": 1,
      "outputs": [
        {
          "output_type": "stream",
          "text": [
            "  % Total    % Received % Xferd  Average Speed   Time    Time     Time  Current\n",
            "                                 Dload  Upload   Total   Spent    Left  Speed\n",
            "100 58.1M  100 58.1M    0     0  25.8M      0  0:00:02  0:00:02 --:--:-- 25.8M\n"
          ],
          "name": "stdout"
        }
      ]
    },
    {
      "cell_type": "code",
      "metadata": {
        "id": "Fam53HA_6PMa"
      },
      "source": [
        "import numpy as np\n",
        "import matplotlib.pyplot as plt\n",
        "import pandas as pd\n",
        "import tensorflow as tf\n",
        "from sklearn.model_selection import train_test_split"
      ],
      "execution_count": 2,
      "outputs": []
    },
    {
      "cell_type": "code",
      "metadata": {
        "colab": {
          "base_uri": "https://localhost:8080/"
        },
        "id": "H3VqZGrz6ZOQ",
        "outputId": "7ed8b844-d26f-45a2-e169-50fc30c3cc98"
      },
      "source": [
        "# load the features and labels (subtract 1 as the labels aren't indexed from 0)\n",
        "ytest = np.loadtxt('UCI_HAR_DATASET/test/y_test.txt').astype(np.float32) -1\n",
        "ytrain = np.loadtxt('UCI_HAR_DATASET/train/y_train.txt').astype(np.float32) -1\n",
        "\n",
        "# load the x,y,z body accelerations test data\n",
        "xx=np.loadtxt('/content/UCI_HAR_DATASET/test/Inertial Signals/body_acc_x_test.txt').astype(np.float32) \n",
        "yy=np.loadtxt('/content/UCI_HAR_DATASET/test/Inertial Signals/body_acc_y_test.txt').astype(np.float32) \n",
        "zz=np.loadtxt('/content/UCI_HAR_DATASET/test/Inertial Signals/body_acc_z_test.txt').astype(np.float32) \n",
        "\n",
        "# concatenate the arrays along the last dimension\n",
        "xtest = np.concatenate((xx[:,:,None],yy[:,:,None],zz[:,:,None]),axis=2)\n",
        "# (using None here adds an extra dimension of size 1 to the end of the array)\n",
        "\n",
        "# follow the same approach for the train data\n",
        "xx=np.loadtxt('/content/UCI_HAR_DATASET/train/Inertial Signals/body_acc_x_train.txt').astype(np.float32) \n",
        "yy=np.loadtxt('/content/UCI_HAR_DATASET/train/Inertial Signals/body_acc_y_train.txt').astype(np.float32) \n",
        "zz=np.loadtxt('/content/UCI_HAR_DATASET/train/Inertial Signals/body_acc_z_train.txt').astype(np.float32) \n",
        "\n",
        "xtrain = np.concatenate((xx[:,:,None],yy[:,:,None],zz[:,:,None]),axis=2)\n",
        "\n",
        "xtrain, xvalid, ytrain, yvalid = train_test_split(xtrain, ytrain, test_size=0.2, random_state=42)\n",
        "ytrain_enc = tf.keras.utils.to_categorical(ytrain)\n",
        "yvalid_enc = tf.keras.utils.to_categorical(yvalid)\n",
        "ytest_enc = tf.keras.utils.to_categorical(ytest)\n",
        "xtrain = xtrain.astype(np.float32)\n",
        "xvalid = xvalid.astype(np.float32)\n",
        "xtest = xtest.astype(np.float32)\n",
        "\n",
        "print(xtrain.shape, ytrain_enc.shape, xvalid.shape, yvalid_enc.shape, xtest.shape, ytest_enc.shape)"
      ],
      "execution_count": 3,
      "outputs": [
        {
          "output_type": "stream",
          "text": [
            "(5881, 128, 3) (5881, 6) (1471, 128, 3) (1471, 6) (2947, 128, 3) (2947, 6)\n"
          ],
          "name": "stdout"
        }
      ]
    },
    {
      "cell_type": "code",
      "metadata": {
        "id": "yB2fjjuM55lo"
      },
      "source": [
        "input_layer = tf.keras.Input(shape=(128,3))\n",
        "output_layer1 = tf.keras.layers.Conv1D(filters=32, kernel_size=(4), padding = 'same')(input_layer)\n",
        "output_layer2 = tf.keras.layers.BatchNormalization()(output_layer1)\n",
        "output_layer3 = tf.keras.layers.ReLU()(output_layer2)\n",
        "output_layer4 = tf.keras.layers.GlobalAveragePooling1D()(output_layer3)\n",
        "output_layer5 = tf.keras.layers.Dense(units=6,activation=tf.nn.softmax)(output_layer4)\n",
        "\n",
        "model = tf.keras.Model(inputs=input_layer, outputs=output_layer5)"
      ],
      "execution_count": 4,
      "outputs": []
    },
    {
      "cell_type": "code",
      "metadata": {
        "id": "bZUBzWn2ayhy"
      },
      "source": [
        "model.compile(optimizer=tf.keras.optimizers.Adam(0.001), loss='categorical_crossentropy', metrics=['accuracy'])\n",
        "callbacks = [tf.keras.callbacks.EarlyStopping(monitor='val_loss', patience=2)]"
      ],
      "execution_count": 5,
      "outputs": []
    },
    {
      "cell_type": "code",
      "metadata": {
        "colab": {
          "base_uri": "https://localhost:8080/"
        },
        "id": "tFuWE5sabFmz",
        "outputId": "6dbe4ce1-d750-46cd-82f5-b609e31bfaa1"
      },
      "source": [
        "model.fit(xtrain,  ytrain_enc, \n",
        "          epochs=200,\n",
        "          batch_size=512, \n",
        "          callbacks=callbacks,\n",
        "          validation_data=(xvalid, yvalid_enc))"
      ],
      "execution_count": 6,
      "outputs": [
        {
          "output_type": "stream",
          "text": [
            "Epoch 1/200\n",
            "12/12 [==============================] - 2s 72ms/step - loss: 1.8354 - accuracy: 0.2353 - val_loss: 1.7795 - val_accuracy: 0.3521\n",
            "Epoch 2/200\n",
            "12/12 [==============================] - 1s 54ms/step - loss: 1.7293 - accuracy: 0.3163 - val_loss: 1.7698 - val_accuracy: 0.3290\n",
            "Epoch 3/200\n",
            "12/12 [==============================] - 1s 56ms/step - loss: 1.6445 - accuracy: 0.3406 - val_loss: 1.7602 - val_accuracy: 0.3365\n",
            "Epoch 4/200\n",
            "12/12 [==============================] - 1s 56ms/step - loss: 1.5738 - accuracy: 0.3712 - val_loss: 1.7502 - val_accuracy: 0.3365\n",
            "Epoch 5/200\n",
            "12/12 [==============================] - 1s 55ms/step - loss: 1.5154 - accuracy: 0.4300 - val_loss: 1.7384 - val_accuracy: 0.3379\n",
            "Epoch 6/200\n",
            "12/12 [==============================] - 1s 57ms/step - loss: 1.4680 - accuracy: 0.4916 - val_loss: 1.7264 - val_accuracy: 0.3331\n",
            "Epoch 7/200\n",
            "12/12 [==============================] - 1s 56ms/step - loss: 1.4283 - accuracy: 0.5150 - val_loss: 1.7137 - val_accuracy: 0.3324\n",
            "Epoch 8/200\n",
            "12/12 [==============================] - 1s 57ms/step - loss: 1.3949 - accuracy: 0.5166 - val_loss: 1.7009 - val_accuracy: 0.3195\n",
            "Epoch 9/200\n",
            "12/12 [==============================] - 1s 56ms/step - loss: 1.3652 - accuracy: 0.5232 - val_loss: 1.6885 - val_accuracy: 0.3154\n",
            "Epoch 10/200\n",
            "12/12 [==============================] - 1s 56ms/step - loss: 1.3388 - accuracy: 0.5373 - val_loss: 1.6755 - val_accuracy: 0.3195\n",
            "Epoch 11/200\n",
            "12/12 [==============================] - 1s 56ms/step - loss: 1.3139 - accuracy: 0.5433 - val_loss: 1.6612 - val_accuracy: 0.3215\n",
            "Epoch 12/200\n",
            "12/12 [==============================] - 1s 58ms/step - loss: 1.2907 - accuracy: 0.5448 - val_loss: 1.6461 - val_accuracy: 0.3243\n",
            "Epoch 13/200\n",
            "12/12 [==============================] - 1s 57ms/step - loss: 1.2682 - accuracy: 0.5491 - val_loss: 1.6306 - val_accuracy: 0.3283\n",
            "Epoch 14/200\n",
            "12/12 [==============================] - 1s 56ms/step - loss: 1.2466 - accuracy: 0.5603 - val_loss: 1.6145 - val_accuracy: 0.3392\n",
            "Epoch 15/200\n",
            "12/12 [==============================] - 1s 56ms/step - loss: 1.2252 - accuracy: 0.5620 - val_loss: 1.5959 - val_accuracy: 0.3508\n",
            "Epoch 16/200\n",
            "12/12 [==============================] - 1s 56ms/step - loss: 1.2041 - accuracy: 0.5674 - val_loss: 1.5771 - val_accuracy: 0.3589\n",
            "Epoch 17/200\n",
            "12/12 [==============================] - 1s 57ms/step - loss: 1.1835 - accuracy: 0.5724 - val_loss: 1.5574 - val_accuracy: 0.3732\n",
            "Epoch 18/200\n",
            "12/12 [==============================] - 1s 56ms/step - loss: 1.1637 - accuracy: 0.5747 - val_loss: 1.5366 - val_accuracy: 0.3855\n",
            "Epoch 19/200\n",
            "12/12 [==============================] - 1s 57ms/step - loss: 1.1439 - accuracy: 0.5786 - val_loss: 1.5143 - val_accuracy: 0.4004\n",
            "Epoch 20/200\n",
            "12/12 [==============================] - 1s 57ms/step - loss: 1.1258 - accuracy: 0.5844 - val_loss: 1.4925 - val_accuracy: 0.4181\n",
            "Epoch 21/200\n",
            "12/12 [==============================] - 1s 58ms/step - loss: 1.1069 - accuracy: 0.5883 - val_loss: 1.4676 - val_accuracy: 0.4330\n",
            "Epoch 22/200\n",
            "12/12 [==============================] - 1s 58ms/step - loss: 1.0895 - accuracy: 0.5848 - val_loss: 1.4422 - val_accuracy: 0.4534\n",
            "Epoch 23/200\n",
            "12/12 [==============================] - 1s 59ms/step - loss: 1.0724 - accuracy: 0.5939 - val_loss: 1.4171 - val_accuracy: 0.4718\n",
            "Epoch 24/200\n",
            "12/12 [==============================] - 1s 57ms/step - loss: 1.0554 - accuracy: 0.5975 - val_loss: 1.3875 - val_accuracy: 0.5071\n",
            "Epoch 25/200\n",
            "12/12 [==============================] - 1s 57ms/step - loss: 1.0398 - accuracy: 0.5975 - val_loss: 1.3568 - val_accuracy: 0.5296\n",
            "Epoch 26/200\n",
            "12/12 [==============================] - 1s 57ms/step - loss: 1.0250 - accuracy: 0.5997 - val_loss: 1.3288 - val_accuracy: 0.5350\n",
            "Epoch 27/200\n",
            "12/12 [==============================] - 1s 57ms/step - loss: 1.0113 - accuracy: 0.6006 - val_loss: 1.2980 - val_accuracy: 0.5432\n",
            "Epoch 28/200\n",
            "12/12 [==============================] - 1s 57ms/step - loss: 0.9958 - accuracy: 0.6052 - val_loss: 1.2687 - val_accuracy: 0.5357\n",
            "Epoch 29/200\n",
            "12/12 [==============================] - 1s 58ms/step - loss: 0.9828 - accuracy: 0.6075 - val_loss: 1.2366 - val_accuracy: 0.5432\n",
            "Epoch 30/200\n",
            "12/12 [==============================] - 1s 57ms/step - loss: 0.9703 - accuracy: 0.6084 - val_loss: 1.2065 - val_accuracy: 0.5520\n",
            "Epoch 31/200\n",
            "12/12 [==============================] - 1s 58ms/step - loss: 0.9568 - accuracy: 0.6111 - val_loss: 1.1737 - val_accuracy: 0.5690\n",
            "Epoch 32/200\n",
            "12/12 [==============================] - 1s 56ms/step - loss: 0.9460 - accuracy: 0.6152 - val_loss: 1.1450 - val_accuracy: 0.5704\n",
            "Epoch 33/200\n",
            "12/12 [==============================] - 1s 56ms/step - loss: 0.9345 - accuracy: 0.6140 - val_loss: 1.1136 - val_accuracy: 0.5914\n",
            "Epoch 34/200\n",
            "12/12 [==============================] - 1s 56ms/step - loss: 0.9231 - accuracy: 0.6200 - val_loss: 1.0879 - val_accuracy: 0.5914\n",
            "Epoch 35/200\n",
            "12/12 [==============================] - 1s 56ms/step - loss: 0.9123 - accuracy: 0.6217 - val_loss: 1.0582 - val_accuracy: 0.6057\n",
            "Epoch 36/200\n",
            "12/12 [==============================] - 1s 59ms/step - loss: 0.9036 - accuracy: 0.6208 - val_loss: 1.0320 - val_accuracy: 0.6111\n",
            "Epoch 37/200\n",
            "12/12 [==============================] - 1s 55ms/step - loss: 0.8945 - accuracy: 0.6232 - val_loss: 1.0112 - val_accuracy: 0.6105\n",
            "Epoch 38/200\n",
            "12/12 [==============================] - 1s 57ms/step - loss: 0.8857 - accuracy: 0.6252 - val_loss: 0.9885 - val_accuracy: 0.6132\n",
            "Epoch 39/200\n",
            "12/12 [==============================] - 1s 58ms/step - loss: 0.8775 - accuracy: 0.6261 - val_loss: 0.9691 - val_accuracy: 0.6132\n",
            "Epoch 40/200\n",
            "12/12 [==============================] - 1s 56ms/step - loss: 0.8694 - accuracy: 0.6307 - val_loss: 0.9498 - val_accuracy: 0.6166\n",
            "Epoch 41/200\n",
            "12/12 [==============================] - 1s 56ms/step - loss: 0.8614 - accuracy: 0.6349 - val_loss: 0.9333 - val_accuracy: 0.6186\n",
            "Epoch 42/200\n",
            "12/12 [==============================] - 1s 58ms/step - loss: 0.8544 - accuracy: 0.6392 - val_loss: 0.9154 - val_accuracy: 0.6234\n",
            "Epoch 43/200\n",
            "12/12 [==============================] - 1s 55ms/step - loss: 0.8471 - accuracy: 0.6448 - val_loss: 0.9001 - val_accuracy: 0.6220\n",
            "Epoch 44/200\n",
            "12/12 [==============================] - 1s 56ms/step - loss: 0.8409 - accuracy: 0.6495 - val_loss: 0.8842 - val_accuracy: 0.6343\n",
            "Epoch 45/200\n",
            "12/12 [==============================] - 1s 57ms/step - loss: 0.8348 - accuracy: 0.6591 - val_loss: 0.8743 - val_accuracy: 0.6553\n",
            "Epoch 46/200\n",
            "12/12 [==============================] - 1s 57ms/step - loss: 0.8289 - accuracy: 0.6683 - val_loss: 0.8633 - val_accuracy: 0.6370\n",
            "Epoch 47/200\n",
            "12/12 [==============================] - 1s 55ms/step - loss: 0.8222 - accuracy: 0.6698 - val_loss: 0.8488 - val_accuracy: 0.6417\n",
            "Epoch 48/200\n",
            "12/12 [==============================] - 1s 59ms/step - loss: 0.8174 - accuracy: 0.6734 - val_loss: 0.8374 - val_accuracy: 0.6343\n",
            "Epoch 49/200\n",
            "12/12 [==============================] - 1s 58ms/step - loss: 0.8120 - accuracy: 0.6774 - val_loss: 0.8273 - val_accuracy: 0.6275\n",
            "Epoch 50/200\n",
            "12/12 [==============================] - 1s 56ms/step - loss: 0.8067 - accuracy: 0.6876 - val_loss: 0.8175 - val_accuracy: 0.6404\n",
            "Epoch 51/200\n",
            "12/12 [==============================] - 1s 60ms/step - loss: 0.8024 - accuracy: 0.6977 - val_loss: 0.8111 - val_accuracy: 0.6377\n",
            "Epoch 52/200\n",
            "12/12 [==============================] - 1s 59ms/step - loss: 0.7980 - accuracy: 0.6987 - val_loss: 0.8048 - val_accuracy: 0.6601\n",
            "Epoch 53/200\n",
            "12/12 [==============================] - 1s 56ms/step - loss: 0.7921 - accuracy: 0.7011 - val_loss: 0.7972 - val_accuracy: 0.7009\n",
            "Epoch 54/200\n",
            "12/12 [==============================] - 1s 59ms/step - loss: 0.7881 - accuracy: 0.7267 - val_loss: 0.7910 - val_accuracy: 0.6621\n",
            "Epoch 55/200\n",
            "12/12 [==============================] - 1s 57ms/step - loss: 0.7834 - accuracy: 0.7276 - val_loss: 0.7883 - val_accuracy: 0.6852\n",
            "Epoch 56/200\n",
            "12/12 [==============================] - 1s 57ms/step - loss: 0.7802 - accuracy: 0.7310 - val_loss: 0.7871 - val_accuracy: 0.6594\n",
            "Epoch 57/200\n",
            "12/12 [==============================] - 1s 57ms/step - loss: 0.7755 - accuracy: 0.7444 - val_loss: 0.7808 - val_accuracy: 0.6710\n",
            "Epoch 58/200\n",
            "12/12 [==============================] - 1s 56ms/step - loss: 0.7715 - accuracy: 0.7404 - val_loss: 0.7762 - val_accuracy: 0.7118\n",
            "Epoch 59/200\n",
            "12/12 [==============================] - 1s 56ms/step - loss: 0.7680 - accuracy: 0.7404 - val_loss: 0.7735 - val_accuracy: 0.6948\n",
            "Epoch 60/200\n",
            "12/12 [==============================] - 1s 59ms/step - loss: 0.7641 - accuracy: 0.7477 - val_loss: 0.7705 - val_accuracy: 0.6567\n",
            "Epoch 61/200\n",
            "12/12 [==============================] - 1s 58ms/step - loss: 0.7612 - accuracy: 0.7388 - val_loss: 0.7669 - val_accuracy: 0.6540\n",
            "Epoch 62/200\n",
            "12/12 [==============================] - 1s 56ms/step - loss: 0.7580 - accuracy: 0.7495 - val_loss: 0.7608 - val_accuracy: 0.6417\n",
            "Epoch 63/200\n",
            "12/12 [==============================] - 1s 58ms/step - loss: 0.7541 - accuracy: 0.7524 - val_loss: 0.7571 - val_accuracy: 0.6336\n",
            "Epoch 64/200\n",
            "12/12 [==============================] - 1s 58ms/step - loss: 0.7510 - accuracy: 0.7468 - val_loss: 0.7512 - val_accuracy: 0.6445\n",
            "Epoch 65/200\n",
            "12/12 [==============================] - 1s 58ms/step - loss: 0.7476 - accuracy: 0.7499 - val_loss: 0.7466 - val_accuracy: 0.6506\n",
            "Epoch 66/200\n",
            "12/12 [==============================] - 1s 61ms/step - loss: 0.7451 - accuracy: 0.7507 - val_loss: 0.7420 - val_accuracy: 0.6635\n",
            "Epoch 67/200\n",
            "12/12 [==============================] - 1s 59ms/step - loss: 0.7423 - accuracy: 0.7497 - val_loss: 0.7387 - val_accuracy: 0.6601\n",
            "Epoch 68/200\n",
            "12/12 [==============================] - 1s 56ms/step - loss: 0.7391 - accuracy: 0.7540 - val_loss: 0.7388 - val_accuracy: 0.6465\n",
            "Epoch 69/200\n",
            "12/12 [==============================] - 1s 58ms/step - loss: 0.7359 - accuracy: 0.7432 - val_loss: 0.7378 - val_accuracy: 0.6404\n",
            "Epoch 70/200\n",
            "12/12 [==============================] - 1s 57ms/step - loss: 0.7333 - accuracy: 0.7368 - val_loss: 0.7376 - val_accuracy: 0.6349\n",
            "Epoch 71/200\n",
            "12/12 [==============================] - 1s 59ms/step - loss: 0.7308 - accuracy: 0.7427 - val_loss: 0.7364 - val_accuracy: 0.6377\n",
            "Epoch 72/200\n",
            "12/12 [==============================] - 1s 57ms/step - loss: 0.7282 - accuracy: 0.7536 - val_loss: 0.7355 - val_accuracy: 0.6390\n",
            "Epoch 73/200\n",
            "12/12 [==============================] - 1s 58ms/step - loss: 0.7259 - accuracy: 0.7543 - val_loss: 0.7328 - val_accuracy: 0.6322\n",
            "Epoch 74/200\n",
            "12/12 [==============================] - 1s 57ms/step - loss: 0.7231 - accuracy: 0.7507 - val_loss: 0.7293 - val_accuracy: 0.6370\n",
            "Epoch 75/200\n",
            "12/12 [==============================] - 1s 58ms/step - loss: 0.7217 - accuracy: 0.7514 - val_loss: 0.7281 - val_accuracy: 0.6451\n",
            "Epoch 76/200\n",
            "12/12 [==============================] - 1s 57ms/step - loss: 0.7190 - accuracy: 0.7443 - val_loss: 0.7302 - val_accuracy: 0.6655\n",
            "Epoch 77/200\n",
            "12/12 [==============================] - 1s 57ms/step - loss: 0.7169 - accuracy: 0.7432 - val_loss: 0.7212 - val_accuracy: 0.6587\n",
            "Epoch 78/200\n",
            "12/12 [==============================] - 1s 57ms/step - loss: 0.7143 - accuracy: 0.7458 - val_loss: 0.7169 - val_accuracy: 0.6683\n",
            "Epoch 79/200\n",
            "12/12 [==============================] - 1s 57ms/step - loss: 0.7119 - accuracy: 0.7473 - val_loss: 0.7134 - val_accuracy: 0.6812\n",
            "Epoch 80/200\n",
            "12/12 [==============================] - 1s 61ms/step - loss: 0.7093 - accuracy: 0.7419 - val_loss: 0.7124 - val_accuracy: 0.7199\n",
            "Epoch 81/200\n",
            "12/12 [==============================] - 1s 55ms/step - loss: 0.7088 - accuracy: 0.7369 - val_loss: 0.7108 - val_accuracy: 0.6900\n",
            "Epoch 82/200\n",
            "12/12 [==============================] - 1s 56ms/step - loss: 0.7059 - accuracy: 0.7487 - val_loss: 0.7120 - val_accuracy: 0.6547\n",
            "Epoch 83/200\n",
            "12/12 [==============================] - 1s 57ms/step - loss: 0.7029 - accuracy: 0.7526 - val_loss: 0.7132 - val_accuracy: 0.6424\n"
          ],
          "name": "stdout"
        },
        {
          "output_type": "execute_result",
          "data": {
            "text/plain": [
              "<tensorflow.python.keras.callbacks.History at 0x7fcc834c0510>"
            ]
          },
          "metadata": {
            "tags": []
          },
          "execution_count": 6
        }
      ]
    },
    {
      "cell_type": "code",
      "metadata": {
        "colab": {
          "base_uri": "https://localhost:8080/"
        },
        "id": "LgR00nG9zkx1",
        "outputId": "750c0188-19a4-4b53-c1e3-11fe26cea0f9"
      },
      "source": [
        "model.summary()"
      ],
      "execution_count": 7,
      "outputs": [
        {
          "output_type": "stream",
          "text": [
            "Model: \"model\"\n",
            "_________________________________________________________________\n",
            "Layer (type)                 Output Shape              Param #   \n",
            "=================================================================\n",
            "input_1 (InputLayer)         [(None, 128, 3)]          0         \n",
            "_________________________________________________________________\n",
            "conv1d (Conv1D)              (None, 128, 32)           416       \n",
            "_________________________________________________________________\n",
            "batch_normalization (BatchNo (None, 128, 32)           128       \n",
            "_________________________________________________________________\n",
            "re_lu (ReLU)                 (None, 128, 32)           0         \n",
            "_________________________________________________________________\n",
            "global_average_pooling1d (Gl (None, 32)                0         \n",
            "_________________________________________________________________\n",
            "dense (Dense)                (None, 6)                 198       \n",
            "=================================================================\n",
            "Total params: 742\n",
            "Trainable params: 678\n",
            "Non-trainable params: 64\n",
            "_________________________________________________________________\n"
          ],
          "name": "stdout"
        }
      ]
    },
    {
      "cell_type": "markdown",
      "metadata": {
        "id": "xP5FLjyk1nRc"
      },
      "source": [
        "1, s 4ms/step - loss: 0.5741 - accuracy: 0.7747 - val_loss: 0.5855 - val_accuracy: 0.7485\n",
        "epochs=100, batch_size=256"
      ]
    },
    {
      "cell_type": "markdown",
      "metadata": {
        "id": "quTh8GPd12Be"
      },
      "source": [
        "s 10ms/step - loss: 0.6661 - accuracy: 0.7368 - val_loss: 0.6702 - val_accuracy: 0.6621, epochs=100, batch_size=64"
      ]
    },
    {
      "cell_type": "markdown",
      "metadata": {
        "id": "zs2Wnnld3bq5"
      },
      "source": [
        "1s 29ms/step - loss: 0.7814 - accuracy: 0.7021 - val_loss: 0.7837 - val_accuracy: 0.6234, epochs=30, batch_size=256"
      ]
    },
    {
      "cell_type": "markdown",
      "metadata": {
        "id": "_lide1W34fKH"
      },
      "source": [
        "30ms/step - loss: 0.7331 - accuracy: 0.7021 - val_loss: 0.7508 - val_accuracy: 0.6166, epochs=200, batch_size=256"
      ]
    },
    {
      "cell_type": "markdown",
      "metadata": {
        "id": "RYSyfFz57sQf"
      },
      "source": [
        "1s 57ms/step - loss: 0.7029 - accuracy: 0.7526 - val_loss: 0.7132 - val_accuracy: 0.6424, epochs=200, batch_size=512,"
      ]
    },
    {
      "cell_type": "code",
      "metadata": {
        "id": "c5teP8iPvASJ"
      },
      "source": [
        ""
      ],
      "execution_count": null,
      "outputs": []
    },
    {
      "cell_type": "code",
      "metadata": {
        "id": "KgIvBQ8Ru_GG"
      },
      "source": [
        ""
      ],
      "execution_count": null,
      "outputs": []
    },
    {
      "cell_type": "code",
      "metadata": {
        "id": "K-K4RJotzimC"
      },
      "source": [
        ""
      ],
      "execution_count": null,
      "outputs": []
    },
    {
      "cell_type": "markdown",
      "metadata": {
        "id": "Ad8zxqx23kVF"
      },
      "source": [
        ""
      ]
    },
    {
      "cell_type": "code",
      "metadata": {
        "id": "r_dEgyhNzgzG"
      },
      "source": [
        ""
      ],
      "execution_count": null,
      "outputs": []
    },
    {
      "cell_type": "code",
      "metadata": {
        "id": "QWqy6wA_zcEK"
      },
      "source": [
        ""
      ],
      "execution_count": null,
      "outputs": []
    },
    {
      "cell_type": "code",
      "metadata": {
        "id": "ZF7gmcdFzHXI"
      },
      "source": [
        ""
      ],
      "execution_count": null,
      "outputs": []
    },
    {
      "cell_type": "code",
      "metadata": {
        "id": "nYPAUUwIwTyb"
      },
      "source": [
        ""
      ],
      "execution_count": null,
      "outputs": []
    },
    {
      "cell_type": "code",
      "metadata": {
        "id": "fSMMopC4wP08"
      },
      "source": [
        ""
      ],
      "execution_count": null,
      "outputs": []
    },
    {
      "cell_type": "code",
      "metadata": {
        "id": "oFol54dmwDot"
      },
      "source": [
        ""
      ],
      "execution_count": null,
      "outputs": []
    },
    {
      "cell_type": "code",
      "metadata": {
        "id": "6Ai2A7ubvjNS"
      },
      "source": [
        ""
      ],
      "execution_count": null,
      "outputs": []
    },
    {
      "cell_type": "code",
      "metadata": {
        "id": "CGyO59JShCzz"
      },
      "source": [
        ""
      ],
      "execution_count": null,
      "outputs": []
    },
    {
      "cell_type": "code",
      "metadata": {
        "id": "rsrOOulsggzm"
      },
      "source": [
        ""
      ],
      "execution_count": null,
      "outputs": []
    }
  ]
}